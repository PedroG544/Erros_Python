{
 "cells": [
  {
   "cell_type": "markdown",
   "id": "a3a839a5-800e-4e6c-baf3-509b9b7353ef",
   "metadata": {},
   "source": [
    "# Corrigindo Erros em Python"
   ]
  },
  {
   "cell_type": "markdown",
   "id": "89cafbbd-cb58-4a93-b6be-b1aa4457f5e0",
   "metadata": {},
   "source": [
    "### Exercício 1: SyntaxError"
   ]
  },
  {
   "cell_type": "code",
   "execution_count": 4,
   "id": "33755724-dd40-478a-ab2e-8fa2dafd6cf7",
   "metadata": {},
   "outputs": [
    {
     "ename": "SyntaxError",
     "evalue": "expected ':' (3799675664.py, line 10)",
     "output_type": "error",
     "traceback": [
      "\u001b[1;36m  Cell \u001b[1;32mIn[4], line 10\u001b[1;36m\u001b[0m\n\u001b[1;33m    if aluno_media > 5\u001b[0m\n\u001b[1;37m                      ^\u001b[0m\n\u001b[1;31mSyntaxError\u001b[0m\u001b[1;31m:\u001b[0m expected ':'\n"
     ]
    }
   ],
   "source": [
    "# Declaração das variáveis\n",
    "aluno_nome = 'Gabriel'\n",
    "aluno_nota1 = 8.5\n",
    "aluno_nota2 = 7\n",
    "aluno_nota3 = 9.9\n",
    "aluno_nota4 = 5.8\n",
    "aluno_media = (aluno_nota1 + aluno_nota2 + aluno_nota3 + aluno_nota4) / 4\n",
    "\n",
    "# Conferindo a  situação\n",
    "if aluno_media > 5\n",
    "    print(f\"O aluno {aluno_nome} está aprovado\")\n",
    "else\n",
    "    print(f\"O aluno {aluno_nome} está reprovado\")"
   ]
  },
  {
   "cell_type": "markdown",
   "id": "1a93c2fc-5647-479c-aef1-766a44467d07",
   "metadata": {},
   "source": [
    "### Execício 2: NameError"
   ]
  },
  {
   "cell_type": "code",
   "execution_count": 7,
   "id": "53980991-59cb-407d-824f-884c95a2aa8f",
   "metadata": {},
   "outputs": [
    {
     "name": "stdin",
     "output_type": "stream",
     "text": [
      "Digite a base do triângulo:  8\n"
     ]
    },
    {
     "ename": "NameError",
     "evalue": "name 'altura' is not defined",
     "output_type": "error",
     "traceback": [
      "\u001b[1;31m---------------------------------------------------------------------------\u001b[0m",
      "\u001b[1;31mNameError\u001b[0m                                 Traceback (most recent call last)",
      "Cell \u001b[1;32mIn[7], line 10\u001b[0m\n\u001b[0;32m      7\u001b[0m base \u001b[38;5;241m=\u001b[39m \u001b[38;5;28mfloat\u001b[39m(\u001b[38;5;28minput\u001b[39m(\u001b[38;5;124m\"\u001b[39m\u001b[38;5;124mDigite a base do triângulo: \u001b[39m\u001b[38;5;124m\"\u001b[39m))\n\u001b[0;32m      9\u001b[0m \u001b[38;5;66;03m# Chama a função para calcular a área\u001b[39;00m\n\u001b[1;32m---> 10\u001b[0m area_total \u001b[38;5;241m=\u001b[39m calcular_area_triangulo(base, \u001b[43maltura\u001b[49m)\n\u001b[0;32m     12\u001b[0m \u001b[38;5;66;03m# Imprime o resultado\u001b[39;00m\n\u001b[0;32m     13\u001b[0m \u001b[38;5;28mprint\u001b[39m(\u001b[38;5;124mf\u001b[39m\u001b[38;5;124m\"\u001b[39m\u001b[38;5;124mA área do triângulo é: \u001b[39m\u001b[38;5;132;01m{\u001b[39;00marea_total\u001b[38;5;132;01m}\u001b[39;00m\u001b[38;5;124m\"\u001b[39m)\n",
      "\u001b[1;31mNameError\u001b[0m: name 'altura' is not defined"
     ]
    }
   ],
   "source": [
    "def calcular_area_triangulo(base, altura):\n",
    "  \"\"\"Calcula a área de um triângulo.\"\"\"\n",
    "  area = (base * altura) / 2\n",
    "  return area\n",
    "\n",
    "# Solicita ao usuário a base e a altura do triângulo\n",
    "base = float(input(\"Digite a base do triângulo: \"))\n",
    "\n",
    "# Chama a função para calcular a área\n",
    "area_total = calcular_area_triangulo(base, altura)\n",
    "\n",
    "# Imprime o resultado\n",
    "print(f\"A área do triângulo é: {area_total}\")"
   ]
  },
  {
   "cell_type": "markdown",
   "id": "ef0d841f-e26b-4621-99f9-0be8aabb73c3",
   "metadata": {},
   "source": [
    "### Exercício 3: TypeError"
   ]
  },
  {
   "cell_type": "code",
   "execution_count": 9,
   "id": "3e5b70bc-989b-436c-919a-b69a3c4452b3",
   "metadata": {},
   "outputs": [
    {
     "name": "stdin",
     "output_type": "stream",
     "text": [
      "Digite a primeira nota:  7\n",
      "Digite a segunda nota:  8\n"
     ]
    },
    {
     "ename": "TypeError",
     "evalue": "unsupported operand type(s) for /: 'str' and 'int'",
     "output_type": "error",
     "traceback": [
      "\u001b[1;31m---------------------------------------------------------------------------\u001b[0m",
      "\u001b[1;31mTypeError\u001b[0m                                 Traceback (most recent call last)",
      "Cell \u001b[1;32mIn[9], line 11\u001b[0m\n\u001b[0;32m      8\u001b[0m nota2 \u001b[38;5;241m=\u001b[39m \u001b[38;5;28mstr\u001b[39m(\u001b[38;5;28minput\u001b[39m(\u001b[38;5;124m\"\u001b[39m\u001b[38;5;124mDigite a segunda nota: \u001b[39m\u001b[38;5;124m\"\u001b[39m))\n\u001b[0;32m     10\u001b[0m \u001b[38;5;66;03m# Chama a função para calcular a média\u001b[39;00m\n\u001b[1;32m---> 11\u001b[0m media_final \u001b[38;5;241m=\u001b[39m \u001b[43mcalcular_media\u001b[49m\u001b[43m(\u001b[49m\u001b[43mnota1\u001b[49m\u001b[43m,\u001b[49m\u001b[43m \u001b[49m\u001b[43mnota2\u001b[49m\u001b[43m)\u001b[49m\n\u001b[0;32m     13\u001b[0m \u001b[38;5;66;03m# Imprime o resultado\u001b[39;00m\n\u001b[0;32m     14\u001b[0m \u001b[38;5;28mprint\u001b[39m(\u001b[38;5;124mf\u001b[39m\u001b[38;5;124m\"\u001b[39m\u001b[38;5;124mA média final é: \u001b[39m\u001b[38;5;132;01m{\u001b[39;00mmedia_final\u001b[38;5;132;01m}\u001b[39;00m\u001b[38;5;124m\"\u001b[39m)\n",
      "Cell \u001b[1;32mIn[9], line 3\u001b[0m, in \u001b[0;36mcalcular_media\u001b[1;34m(nota1, nota2)\u001b[0m\n\u001b[0;32m      1\u001b[0m \u001b[38;5;28;01mdef\u001b[39;00m \u001b[38;5;21mcalcular_media\u001b[39m(nota1, nota2):\n\u001b[0;32m      2\u001b[0m \u001b[38;5;250m  \u001b[39m\u001b[38;5;124;03m\"\"\"Calcula a média de duas notas.\"\"\"\u001b[39;00m\n\u001b[1;32m----> 3\u001b[0m   media \u001b[38;5;241m=\u001b[39m \u001b[43m(\u001b[49m\u001b[43mnota1\u001b[49m\u001b[43m \u001b[49m\u001b[38;5;241;43m+\u001b[39;49m\u001b[43m \u001b[49m\u001b[43mnota2\u001b[49m\u001b[43m)\u001b[49m\u001b[43m \u001b[49m\u001b[38;5;241;43m/\u001b[39;49m\u001b[43m \u001b[49m\u001b[38;5;241;43m2\u001b[39;49m\n\u001b[0;32m      4\u001b[0m   \u001b[38;5;28;01mreturn\u001b[39;00m media\n",
      "\u001b[1;31mTypeError\u001b[0m: unsupported operand type(s) for /: 'str' and 'int'"
     ]
    }
   ],
   "source": [
    "def calcular_media(nota1, nota2):\n",
    "  \"\"\"Calcula a média de duas notas.\"\"\"\n",
    "  media = (nota1 + nota2) / 2\n",
    "  return media\n",
    "\n",
    "# Solicita ao usuário as duas notas\n",
    "nota1 = str(input(\"Digite a primeira nota: \"))\n",
    "nota2 = str(input(\"Digite a segunda nota: \"))\n",
    "\n",
    "# Chama a função para calcular a média\n",
    "media_final = calcular_media(nota1, nota2)\n",
    "\n",
    "# Imprime o resultado\n",
    "print(f\"A média final é: {media_final}\")"
   ]
  },
  {
   "cell_type": "markdown",
   "id": "c6957f05-d804-4023-8e9a-d1de9d3f177b",
   "metadata": {},
   "source": [
    "### Exercício 4: IndexError"
   ]
  },
  {
   "cell_type": "code",
   "execution_count": 10,
   "id": "41460271-7761-4f7c-bba7-bc6e573c4726",
   "metadata": {},
   "outputs": [
    {
     "ename": "IndexError",
     "evalue": "list index out of range",
     "output_type": "error",
     "traceback": [
      "\u001b[1;31m---------------------------------------------------------------------------\u001b[0m",
      "\u001b[1;31mIndexError\u001b[0m                                Traceback (most recent call last)",
      "Cell \u001b[1;32mIn[10], line 3\u001b[0m\n\u001b[0;32m      1\u001b[0m frutas \u001b[38;5;241m=\u001b[39m [\u001b[38;5;124m\"\u001b[39m\u001b[38;5;124mmaçã\u001b[39m\u001b[38;5;124m\"\u001b[39m, \u001b[38;5;124m\"\u001b[39m\u001b[38;5;124mbanana\u001b[39m\u001b[38;5;124m\"\u001b[39m, \u001b[38;5;124m\"\u001b[39m\u001b[38;5;124mlaranja\u001b[39m\u001b[38;5;124m\"\u001b[39m]\n\u001b[1;32m----> 3\u001b[0m fruta_escolhida \u001b[38;5;241m=\u001b[39m \u001b[43mfrutas\u001b[49m\u001b[43m[\u001b[49m\u001b[38;5;241;43m3\u001b[39;49m\u001b[43m]\u001b[49m\n\u001b[0;32m      4\u001b[0m \u001b[38;5;28mprint\u001b[39m(\u001b[38;5;124mf\u001b[39m\u001b[38;5;124m\"\u001b[39m\u001b[38;5;124mA fruta escolhida é: \u001b[39m\u001b[38;5;132;01m{\u001b[39;00mfruta_escolhida\u001b[38;5;132;01m}\u001b[39;00m\u001b[38;5;124m\"\u001b[39m)\n",
      "\u001b[1;31mIndexError\u001b[0m: list index out of range"
     ]
    }
   ],
   "source": [
    "frutas = [\"maçã\", \"banana\", \"laranja\"]\n",
    "\n",
    "fruta_escolhida = frutas[3]\n",
    "print(f\"A fruta escolhida é: {fruta_escolhida}\")"
   ]
  },
  {
   "cell_type": "markdown",
   "id": "c9ba1c40-ebcb-4405-bfab-5a9805b678ce",
   "metadata": {},
   "source": [
    "### Exercício 5: KeyError"
   ]
  },
  {
   "cell_type": "code",
   "execution_count": 18,
   "id": "e7e67d37-d09f-4fbc-b60e-0c093a02dbe1",
   "metadata": {},
   "outputs": [
    {
     "ename": "KeyError",
     "evalue": "'Pedro Guilherme'",
     "output_type": "error",
     "traceback": [
      "\u001b[1;31m---------------------------------------------------------------------------\u001b[0m",
      "\u001b[1;31mKeyError\u001b[0m                                  Traceback (most recent call last)",
      "Cell \u001b[1;32mIn[18], line 16\u001b[0m\n\u001b[0;32m     13\u001b[0m matricula \u001b[38;5;241m=\u001b[39m \u001b[38;5;124m\"\u001b[39m\u001b[38;5;124mPedro Guilherme\u001b[39m\u001b[38;5;124m\"\u001b[39m\n\u001b[0;32m     15\u001b[0m \u001b[38;5;66;03m# Chama a função para calcular a média\u001b[39;00m\n\u001b[1;32m---> 16\u001b[0m media_final \u001b[38;5;241m=\u001b[39m \u001b[43mcalcular_media\u001b[49m\u001b[43m(\u001b[49m\u001b[43mmatricula\u001b[49m\u001b[43m)\u001b[49m\n\u001b[0;32m     17\u001b[0m \u001b[38;5;28mprint\u001b[39m(\u001b[38;5;124mf\u001b[39m\u001b[38;5;124m\"\u001b[39m\u001b[38;5;124mA média final do aluno \u001b[39m\u001b[38;5;132;01m{\u001b[39;00mmatricula\u001b[38;5;132;01m}\u001b[39;00m\u001b[38;5;124m é: \u001b[39m\u001b[38;5;132;01m{\u001b[39;00mmedia_final\u001b[38;5;132;01m}\u001b[39;00m\u001b[38;5;124m\"\u001b[39m)\n",
      "Cell \u001b[1;32mIn[18], line 8\u001b[0m, in \u001b[0;36mcalcular_media\u001b[1;34m(matricula)\u001b[0m\n\u001b[0;32m      6\u001b[0m \u001b[38;5;28;01mdef\u001b[39;00m \u001b[38;5;21mcalcular_media\u001b[39m(matricula):\n\u001b[0;32m      7\u001b[0m \u001b[38;5;250m    \u001b[39m\u001b[38;5;124;03m\"\"\"Calcula a média das notas de um aluno.\"\"\"\u001b[39;00m\n\u001b[1;32m----> 8\u001b[0m     notas \u001b[38;5;241m=\u001b[39m \u001b[43malunos\u001b[49m\u001b[43m[\u001b[49m\u001b[43mmatricula\u001b[49m\u001b[43m]\u001b[49m[\u001b[38;5;124m\"\u001b[39m\u001b[38;5;124mnotas\u001b[39m\u001b[38;5;124m\"\u001b[39m]\n\u001b[0;32m      9\u001b[0m     media \u001b[38;5;241m=\u001b[39m \u001b[38;5;28msum\u001b[39m(notas) \u001b[38;5;241m/\u001b[39m \u001b[38;5;28mlen\u001b[39m(notas)\n\u001b[0;32m     10\u001b[0m     \u001b[38;5;28;01mreturn\u001b[39;00m media\n",
      "\u001b[1;31mKeyError\u001b[0m: 'Pedro Guilherme'"
     ]
    }
   ],
   "source": [
    "alunos = {\n",
    "    \"2023001\": {\"nome\": \"João Silva\", \"idade\": 18, \"notas\": [8, 7, 9]},\n",
    "    \"2023002\": {\"nome\": \"Maria Souza\", \"idade\": 17, \"notas\": [9, 10, 8]}\n",
    "}\n",
    "\n",
    "def calcular_media(matricula):\n",
    "    \"\"\"Calcula a média das notas de um aluno.\"\"\"\n",
    "    notas = alunos[matricula][\"notas\"]\n",
    "    media = sum(notas) / len(notas)\n",
    "    return media\n",
    "\n",
    "# Solicita a matrícula do aluno\n",
    "matricula = \"Pedro Guilherme\"\n",
    "\n",
    "# Chama a função para calcular a média\n",
    "media_final = calcular_media(matricula)\n",
    "print(f\"A média final do aluno {matricula} é: {media_final}\")\n"
   ]
  },
  {
   "cell_type": "markdown",
   "id": "cef2b8d4-e6fc-45d8-9673-49b668176e7b",
   "metadata": {},
   "source": [
    "### Exercício 6: ValueError"
   ]
  },
  {
   "cell_type": "code",
   "execution_count": 22,
   "id": "9bdce803-a5c1-4a2c-8882-0836f07216ba",
   "metadata": {},
   "outputs": [
    {
     "ename": "ValueError",
     "evalue": "invalid literal for int() with base 10: '3.141592653'",
     "output_type": "error",
     "traceback": [
      "\u001b[1;31m---------------------------------------------------------------------------\u001b[0m",
      "\u001b[1;31mValueError\u001b[0m                                Traceback (most recent call last)",
      "Cell \u001b[1;32mIn[22], line 10\u001b[0m\n\u001b[0;32m      7\u001b[0m texto \u001b[38;5;241m=\u001b[39m \u001b[38;5;124m\"\u001b[39m\u001b[38;5;124m3.141592653\u001b[39m\u001b[38;5;124m\"\u001b[39m\n\u001b[0;32m      9\u001b[0m \u001b[38;5;66;03m# Chama a função para converter\u001b[39;00m\n\u001b[1;32m---> 10\u001b[0m numero_inteiro \u001b[38;5;241m=\u001b[39m \u001b[43mconverter_para_inteiro\u001b[49m\u001b[43m(\u001b[49m\u001b[43mtexto\u001b[49m\u001b[43m)\u001b[49m\n\u001b[0;32m     11\u001b[0m \u001b[38;5;28mprint\u001b[39m(\u001b[38;5;124mf\u001b[39m\u001b[38;5;124m\"\u001b[39m\u001b[38;5;124mO número inteiro é: \u001b[39m\u001b[38;5;132;01m{\u001b[39;00mnumero_inteiro\u001b[38;5;132;01m}\u001b[39;00m\u001b[38;5;124m\"\u001b[39m)\n",
      "Cell \u001b[1;32mIn[22], line 3\u001b[0m, in \u001b[0;36mconverter_para_inteiro\u001b[1;34m(texto)\u001b[0m\n\u001b[0;32m      1\u001b[0m \u001b[38;5;28;01mdef\u001b[39;00m \u001b[38;5;21mconverter_para_inteiro\u001b[39m(texto):\n\u001b[0;32m      2\u001b[0m     \u001b[38;5;66;03m#Converte uma string para um número inteiro.\u001b[39;00m\n\u001b[1;32m----> 3\u001b[0m     numero \u001b[38;5;241m=\u001b[39m \u001b[38;5;28;43mint\u001b[39;49m\u001b[43m(\u001b[49m\u001b[43mtexto\u001b[49m\u001b[43m)\u001b[49m\n\u001b[0;32m      4\u001b[0m     \u001b[38;5;28;01mreturn\u001b[39;00m numero\n",
      "\u001b[1;31mValueError\u001b[0m: invalid literal for int() with base 10: '3.141592653'"
     ]
    }
   ],
   "source": [
    "def converter_para_inteiro(texto):\n",
    "    #Converte uma string para um número inteiro.\n",
    "    numero = int(texto)\n",
    "    return numero\n",
    "\n",
    "# Solicita ao usuário um número\n",
    "texto = \"3.141592653\"\n",
    "\n",
    "# Chama a função para converter\n",
    "numero_inteiro = converter_para_inteiro(texto)\n",
    "print(f\"O número inteiro é: {numero_inteiro}\")"
   ]
  },
  {
   "cell_type": "markdown",
   "id": "6d126f37-61c5-470f-bb3c-80a46d9cd528",
   "metadata": {},
   "source": [
    "### Exercício 7: IndentationError"
   ]
  },
  {
   "cell_type": "code",
   "execution_count": 27,
   "id": "6ad8c56e-2b31-45a3-a2eb-32ffd1832f1c",
   "metadata": {},
   "outputs": [
    {
     "ename": "IndentationError",
     "evalue": "expected an indented block after 'if' statement on line 6 (2970913616.py, line 7)",
     "output_type": "error",
     "traceback": [
      "\u001b[1;36m  Cell \u001b[1;32mIn[27], line 7\u001b[1;36m\u001b[0m\n\u001b[1;33m    return False\u001b[0m\n\u001b[1;37m    ^\u001b[0m\n\u001b[1;31mIndentationError\u001b[0m\u001b[1;31m:\u001b[0m expected an indented block after 'if' statement on line 6\n"
     ]
    }
   ],
   "source": [
    "def eh_primo(numero):\n",
    "    \"\"\"Verifica se um número é primo.\"\"\"\n",
    "    if numero <= 1:\n",
    "        return False\n",
    "    for i in range(2, int(numero**0.5) + 1):\n",
    "        if numero % i == 0:\n",
    "        return False\n",
    "    return True\n",
    "\n",
    "# Solicita um número ao usuário\n",
    "numero = int(input(\"Digite um número: \"))\n",
    "\n",
    "# Verifica se o número é primo e imprime o resultado\n",
    "if eh_primo(numero):\n",
    "    print(numero, \"é um número primo.\")\n",
    "else:\n",
    "  print(numero, \"não é um número primo.\")"
   ]
  },
  {
   "cell_type": "markdown",
   "id": "f8f3477f-40f0-44a5-a679-34cb850f56df",
   "metadata": {},
   "source": [
    "### Exercício 8: ZeroDivisionError"
   ]
  },
  {
   "cell_type": "code",
   "execution_count": 29,
   "id": "58dd201f-30d6-4878-b1fa-27ce1d259b4f",
   "metadata": {},
   "outputs": [
    {
     "ename": "ZeroDivisionError",
     "evalue": "division by zero",
     "output_type": "error",
     "traceback": [
      "\u001b[1;31m---------------------------------------------------------------------------\u001b[0m",
      "\u001b[1;31mZeroDivisionError\u001b[0m                         Traceback (most recent call last)",
      "Cell \u001b[1;32mIn[29], line 11\u001b[0m\n\u001b[0;32m      8\u001b[0m denominador \u001b[38;5;241m=\u001b[39m \u001b[38;5;241m0\u001b[39m\n\u001b[0;32m     10\u001b[0m \u001b[38;5;66;03m# Chama a função para dividir\u001b[39;00m\n\u001b[1;32m---> 11\u001b[0m resultado_divisao \u001b[38;5;241m=\u001b[39m \u001b[43mdividir\u001b[49m\u001b[43m(\u001b[49m\u001b[43mnumerador\u001b[49m\u001b[43m,\u001b[49m\u001b[43m \u001b[49m\u001b[43mdenominador\u001b[49m\u001b[43m)\u001b[49m\n\u001b[0;32m     12\u001b[0m \u001b[38;5;28mprint\u001b[39m(\u001b[38;5;124mf\u001b[39m\u001b[38;5;124m\"\u001b[39m\u001b[38;5;124mO resultado da divisão é: \u001b[39m\u001b[38;5;132;01m{\u001b[39;00mresultado_divisao\u001b[38;5;132;01m}\u001b[39;00m\u001b[38;5;124m\"\u001b[39m)\n",
      "Cell \u001b[1;32mIn[29], line 3\u001b[0m, in \u001b[0;36mdividir\u001b[1;34m(numerador, denominador)\u001b[0m\n\u001b[0;32m      1\u001b[0m \u001b[38;5;28;01mdef\u001b[39;00m \u001b[38;5;21mdividir\u001b[39m(numerador, denominador):\n\u001b[0;32m      2\u001b[0m \u001b[38;5;250m    \u001b[39m\u001b[38;5;124;03m\"\"\"Realiza a divisão entre dois números.\"\"\"\u001b[39;00m\n\u001b[1;32m----> 3\u001b[0m     resultado \u001b[38;5;241m=\u001b[39m \u001b[43mnumerador\u001b[49m\u001b[43m \u001b[49m\u001b[38;5;241;43m/\u001b[39;49m\u001b[43m \u001b[49m\u001b[43mdenominador\u001b[49m\n\u001b[0;32m      4\u001b[0m     \u001b[38;5;28;01mreturn\u001b[39;00m resultado\n",
      "\u001b[1;31mZeroDivisionError\u001b[0m: division by zero"
     ]
    }
   ],
   "source": [
    "def dividir(numerador, denominador):\n",
    "    \"\"\"Realiza a divisão entre dois números.\"\"\"\n",
    "    resultado = numerador / denominador\n",
    "    return resultado\n",
    "\n",
    "# Solicita os números ao usuário\n",
    "numerador = 10\n",
    "denominador = 0\n",
    "\n",
    "# Chama a função para dividir\n",
    "resultado_divisao = dividir(numerador, denominador)\n",
    "print(f\"O resultado da divisão é: {resultado_divisao}\")"
   ]
  },
  {
   "cell_type": "markdown",
   "id": "0364ea07-9ee5-4048-bc41-40c7c55b2b0d",
   "metadata": {},
   "source": [
    "### Exercício 9: ModuleNotFoundError"
   ]
  },
  {
   "cell_type": "code",
   "execution_count": 32,
   "id": "152a1696-2723-41d3-9234-2e89ae68106f",
   "metadata": {},
   "outputs": [
    {
     "ename": "ModuleNotFoundError",
     "evalue": "No module named 'customtkinter'",
     "output_type": "error",
     "traceback": [
      "\u001b[1;31m---------------------------------------------------------------------------\u001b[0m",
      "\u001b[1;31mModuleNotFoundError\u001b[0m                       Traceback (most recent call last)",
      "Cell \u001b[1;32mIn[32], line 1\u001b[0m\n\u001b[1;32m----> 1\u001b[0m \u001b[38;5;28;01mimport\u001b[39;00m \u001b[38;5;21;01mcustomtkinter\u001b[39;00m \u001b[38;5;28;01mas\u001b[39;00m \u001b[38;5;21;01mctk\u001b[39;00m\n\u001b[0;32m      3\u001b[0m \u001b[38;5;66;03m# Inicializa a aplicação\u001b[39;00m\n\u001b[0;32m      4\u001b[0m ctk\u001b[38;5;241m.\u001b[39mset_appearance_mode(\u001b[38;5;124m\"\u001b[39m\u001b[38;5;124mdark\u001b[39m\u001b[38;5;124m\"\u001b[39m)  \u001b[38;5;66;03m# Define o modo de aparência como escuro\u001b[39;00m\n",
      "\u001b[1;31mModuleNotFoundError\u001b[0m: No module named 'customtkinter'"
     ]
    }
   ],
   "source": [
    "import customtkinter as ctk\n",
    "\n",
    "# Inicializa a aplicação\n",
    "ctk.set_appearance_mode(\"dark\")  # Define o modo de aparência como escuro\n",
    "ctk.set_default_color_theme(\"green\")  # Define o tema de cores padrão\n",
    "\n",
    "# Cria a janela principal\n",
    "app = ctk.CTk()\n",
    "app.geometry(\"400x300\")\n",
    "app.title(\"Exemplo com CustomTkinter\")\n",
    "\n",
    "# Cria um label\n",
    "label = ctk.CTkLabel(master=app, text=\"Clique no botão para mudar a cor\")\n",
    "label.pack(pady=20)\n",
    "\n",
    "# Função para mudar a cor do botão\n",
    "def mudar_cor():\n",
    "    if button.fg_color == \"green\":\n",
    "        button.configure(fg_color=\"red\")\n",
    "    else:\n",
    "        button.configure(fg_color=\"green\")\n",
    "\n",
    "# Cria um botão\n",
    "button = ctk.CTkButton(master=app, text=\"Mudar Cor\", command=mudar_cor)\n",
    "button.pack(pady=10)\n",
    "\n",
    "# Inicia a aplicação\n",
    "app.mainloop()"
   ]
  },
  {
   "cell_type": "markdown",
   "id": "5fba9ded-35e9-4b26-84c8-42762ebf9567",
   "metadata": {},
   "source": [
    "### Exercício 10: AttributeError"
   ]
  },
  {
   "cell_type": "code",
   "execution_count": 33,
   "id": "f3b4491a-0b76-463a-9fdb-ae9ef8659b91",
   "metadata": {},
   "outputs": [
    {
     "ename": "AttributeError",
     "evalue": "'Cachorro' object has no attribute 'miar'",
     "output_type": "error",
     "traceback": [
      "\u001b[1;31m---------------------------------------------------------------------------\u001b[0m",
      "\u001b[1;31mAttributeError\u001b[0m                            Traceback (most recent call last)",
      "Cell \u001b[1;32mIn[33], line 6\u001b[0m\n\u001b[0;32m      3\u001b[0m         \u001b[38;5;28mprint\u001b[39m(\u001b[38;5;124m\"\u001b[39m\u001b[38;5;124mAu au!\u001b[39m\u001b[38;5;124m\"\u001b[39m)\n\u001b[0;32m      5\u001b[0m meu_cachorro \u001b[38;5;241m=\u001b[39m Cachorro()\n\u001b[1;32m----> 6\u001b[0m \u001b[43mmeu_cachorro\u001b[49m\u001b[38;5;241;43m.\u001b[39;49m\u001b[43mmiar\u001b[49m() \n",
      "\u001b[1;31mAttributeError\u001b[0m: 'Cachorro' object has no attribute 'miar'"
     ]
    }
   ],
   "source": [
    "class Cachorro:\n",
    "    def latir(self):\n",
    "        print(\"Au au!\")\n",
    "\n",
    "meu_cachorro = Cachorro()\n",
    "meu_cachorro.miar() "
   ]
  },
  {
   "cell_type": "code",
   "execution_count": null,
   "id": "7242a987-b2ae-424e-bd75-fbc387e29cf9",
   "metadata": {},
   "outputs": [],
   "source": []
  }
 ],
 "metadata": {
  "kernelspec": {
   "display_name": "Python 3 (ipykernel)",
   "language": "python",
   "name": "python3"
  },
  "language_info": {
   "codemirror_mode": {
    "name": "ipython",
    "version": 3
   },
   "file_extension": ".py",
   "mimetype": "text/x-python",
   "name": "python",
   "nbconvert_exporter": "python",
   "pygments_lexer": "ipython3",
   "version": "3.13.0"
  }
 },
 "nbformat": 4,
 "nbformat_minor": 5
}
